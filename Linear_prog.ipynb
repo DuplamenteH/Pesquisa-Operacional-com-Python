{
  "nbformat": 4,
  "nbformat_minor": 0,
  "metadata": {
    "colab": {
      "name": "Linear prog",
      "private_outputs": true,
      "provenance": [],
      "authorship_tag": "ABX9TyNP/cVg9mc1bNnjjIRRK1u0",
      "include_colab_link": true
    },
    "kernelspec": {
      "name": "python3",
      "display_name": "Python 3"
    },
    "language_info": {
      "name": "python"
    }
  },
  "cells": [
    {
      "cell_type": "markdown",
      "metadata": {
        "id": "view-in-github",
        "colab_type": "text"
      },
      "source": [
        "<a href=\"https://colab.research.google.com/github/DuplamenteH/Pesquisa-Operacional-com-Python/blob/main/Linear_prog.ipynb\" target=\"_parent\"><img src=\"https://colab.research.google.com/assets/colab-badge.svg\" alt=\"Open In Colab\"/></a>"
      ]
    },
    {
      "cell_type": "markdown",
      "source": [
        "instalação"
      ],
      "metadata": {
        "id": "L0lPBmhL3n3t"
      }
    },
    {
      "cell_type": "code",
      "source": [
        "!pip install ortools"
      ],
      "metadata": {
        "id": "jbJIV7t63qT7"
      },
      "execution_count": null,
      "outputs": []
    },
    {
      "cell_type": "code",
      "source": [
        ""
      ],
      "metadata": {
        "id": "hJir7lya30LD"
      },
      "execution_count": null,
      "outputs": []
    },
    {
      "cell_type": "markdown",
      "source": [
        "code"
      ],
      "metadata": {
        "id": "Gb6RaDLl32Hr"
      }
    },
    {
      "cell_type": "code",
      "source": [
        "import ortools.linear_solver.pywraplp as otlp"
      ],
      "metadata": {
        "id": "cfy-MbUH33WM"
      },
      "execution_count": null,
      "outputs": []
    },
    {
      "cell_type": "code",
      "source": [
        "solver = otlp.Solver('teste',otlp.Solver.GLOP_LINEAR_PROGRAMMING)"
      ],
      "metadata": {
        "id": "zt2OeQWY4Sck"
      },
      "execution_count": null,
      "outputs": []
    },
    {
      "cell_type": "code",
      "source": [
        "x = solver.NumVar(0,10,'x')\n",
        "y = solver.NumVar(0,10,'y')\n",
        "\n"
      ],
      "metadata": {
        "id": "35bgYsDB4jlE"
      },
      "execution_count": null,
      "outputs": []
    },
    {
      "cell_type": "code",
      "source": [
        "restricao1 = -x+2*y\n",
        "restricao2 = 2*x+y\n",
        "restricao3 = 2*x-y"
      ],
      "metadata": {
        "id": "JeOSqOBP7GqT"
      },
      "execution_count": null,
      "outputs": []
    },
    {
      "cell_type": "code",
      "source": [
        "solver.Add(restricao1<=8)\n",
        "solver.Add(restricao2<=14)\n",
        "solver.Add(restricao3<=10)"
      ],
      "metadata": {
        "id": "GA-jBar45gzb"
      },
      "execution_count": null,
      "outputs": []
    },
    {
      "cell_type": "code",
      "source": [
        "solver.Maximize(x+y)"
      ],
      "metadata": {
        "id": "3SzxIpr95vFT"
      },
      "execution_count": null,
      "outputs": []
    },
    {
      "cell_type": "code",
      "source": [
        "results = solver.Solve()"
      ],
      "metadata": {
        "id": "K-CAjisM54YT"
      },
      "execution_count": null,
      "outputs": []
    },
    {
      "cell_type": "code",
      "source": [
        "if  results==otlp.Solver.OPTIMAL:\n",
        "    print('Resultado encontrado')\n",
        "    print('x = {}'.format(x.solution_value()))\n",
        "    print('y = {}'.format(y.solution_value()))\n",
        "else:\n",
        "    print('Insoluvel')\n",
        "    print('x = {}'.format(x.solution_value()))\n",
        "    print('y = {}'.format(y.solution_value()))"
      ],
      "metadata": {
        "id": "l2EmhE5M58aa"
      },
      "execution_count": null,
      "outputs": []
    },
    {
      "cell_type": "code",
      "source": [
        ""
      ],
      "metadata": {
        "id": "Vu7WZSHt7zAL"
      },
      "execution_count": null,
      "outputs": []
    }
  ]
}